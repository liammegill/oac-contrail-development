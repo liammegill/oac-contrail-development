{
 "cells": [
  {
   "attachments": {},
   "cell_type": "markdown",
   "metadata": {},
   "source": [
    "# Integration of Limiting Factors study into OpenAirClim\n",
    "\n",
    "Description: Comparison of the AirClim 2.1 contrail method with the new contrail method based on Megill & Grewe (2025).\n",
    "\n",
    "Author: Liam Megill\n",
    "\n",
    "Institution: Deutsches Zentrum für Luft- und Raumfahrt, Institut für Physik der Atmosphäre"
   ]
  },
  {
   "attachments": {},
   "cell_type": "markdown",
   "metadata": {},
   "source": [
    "We start by comparing the pre-calculated contrail data - $p_{SAC}$ in AirClim; $p_{pcf}$ in OpenAirClim. From the new CCMod simulations, it was possible to create pre-calculated data for a conventional aircraft as well, which is saved as `resp_cont_cc.nc`. Since a number of simulations are at the time of writing still missing, it was unfortunately not possible to create this data for the hydrogen-powered aircraft."
   ]
  },
  {
   "cell_type": "code",
   "execution_count": null,
   "metadata": {},
   "outputs": [],
   "source": [
    "import xarray as xr\n",
    "import matplotlib.pyplot as plt\n",
    "from scipy.interpolate import griddata\n",
    "import numpy as np\n",
    "\n",
    "# load data\n",
    "ds_ah = xr.open_dataset(\"../../oac/repository/resp_cont.nc\")\n",
    "ds_cc = xr.open_dataset(\"../../oac/repository/resp_cont_cc.nc\")\n",
    "ds_lf = xr.open_dataset(\"../../oac/repository/resp_cont_lf.nc\")"
   ]
  },
  {
   "cell_type": "code",
   "execution_count": null,
   "metadata": {},
   "outputs": [],
   "source": [
    "# regrid AHEAD to ERA5 pressure levels\n",
    "\n",
    "def calc_airclim_source_grid(ds_airclim):\n",
    "    source_lvl = ds_airclim.plev.data\n",
    "    source_lat = ds_airclim.lat.data\n",
    "    source_lon = ds_airclim.lon.data\n",
    "    lvl_source_mesh, lat_source_mesh, lon_source_mesh = np.meshgrid(\n",
    "        source_lvl, source_lat, source_lon, indexing='ij'\n",
    "    )\n",
    "    source_points = np.column_stack(\n",
    "        [lvl_source_mesh.flatten(),\n",
    "         lat_source_mesh.flatten(),\n",
    "         lon_source_mesh.flatten()]\n",
    "    )\n",
    "    return source_points\n",
    "\n",
    "def regrid_to_target(ds, source_points, variable, target_lvl, target_lat, target_lon,\n",
    "                     method=\"nearest\"):\n",
    "\n",
    "    # define target grid\n",
    "    lvl_mesh, lat_mesh, lon_mesh = np.meshgrid(target_lvl, target_lat, target_lon, indexing='ij')\n",
    "    target_points = np.column_stack(\n",
    "        [lvl_mesh.flatten(),\n",
    "         lat_mesh.flatten(),\n",
    "         lon_mesh.flatten()]\n",
    "    )\n",
    "\n",
    "    # regrid variable\n",
    "    intrp = griddata(\n",
    "        points=source_points,\n",
    "        values=ds[variable].data.flatten(),\n",
    "        xi=target_points,\n",
    "        method=method\n",
    "    )\n",
    "    intrp = intrp.reshape(lvl_mesh.shape)\n",
    "\n",
    "    # convert to dataset\n",
    "    ds_intrp = xr.DataArray(\n",
    "        intrp,\n",
    "        coords={\"plev\": target_lvl, \"lat\": target_lat, \"lon\": target_lon},\n",
    "        dims=[\"plev\", \"lat\", \"lon\"]\n",
    "    )\n",
    "\n",
    "    return ds_intrp\n",
    "\n",
    "\n",
    "# define target grid\n",
    "target_lvl = ds_lf.plev.data\n",
    "target_lat = ds_ah.lat.data\n",
    "target_lon = ds_ah.lon.data\n",
    "target = (target_lvl, target_lat, target_lon)\n",
    "\n",
    "# regrid data\n",
    "ds_ah = ds_ah.transpose(\"plev\", \"lat\", \"lon\")\n",
    "ah_source_pts = calc_airclim_source_grid(ds_ah)\n",
    "ds_ah_intrp_con = regrid_to_target(ds_ah, ah_source_pts, \"SAC_CON\", *target)\n",
    "ds_ah_intrp_h2c = regrid_to_target(ds_ah, ah_source_pts, \"SAC_LH2\", *target)"
   ]
  },
  {
   "cell_type": "code",
   "execution_count": null,
   "metadata": {},
   "outputs": [],
   "source": [
    "# show level values\n",
    "levels = [350, 300, 250, 225, 200, 175, 150]\n",
    "colors = ['#2271B2', '#3DB7E9', '#F748A5', '#359B73', '#D55E00', '#E69F00', '#F0E442']\n",
    "labels = [\"Megill_2025\", \"CCMod\", \"AHEAD\"]\n",
    "\n",
    "ds_lst = [ds_lf.ppcf.sel(AC=\"oac4\"), ds_cc.SAC_CON, ds_ah_intrp_con]\n",
    "ds_latg_lst = [ds.groupby(\"lat\").mean(dim=\"lon\") for ds in ds_lst]\n",
    "\n",
    "fig, axs = plt.subplots(len(levels), figsize=(7, len(levels)), sharex=\"all\", sharey=\"all\")\n",
    "for j, ax in enumerate(axs[::-1]):\n",
    "    for i, ds_latg in enumerate(ds_latg_lst):\n",
    "        ax.plot(ds_latg.lat.data, ds_latg.sel(plev=levels[j]).data, c=colors[i], label=labels[i])\n",
    "    \n",
    "    # axis settings\n",
    "    ax.set_xlim([-90, 90])\n",
    "    ax.set_xticks([-90, -60, -30, 0, 30, 60, 90])\n",
    "    ax.grid(visible=True, which=\"major\", lw=0.1, c=\"gray\", alpha=0.2)\n",
    "    lvl_ax = ax.twinx()\n",
    "    lvl_ax.set_ylim([0, 1])\n",
    "    lvl_ax.set_yticks([0.5])\n",
    "    lvl_ax.set_yticklabels([f\"{levels[j]:.0f} hPa\"])\n",
    "\n",
    "# axis labels\n",
    "axs[3].set_ylabel(\"Potential persistent contrail formation $p_{PCF}$ [-]\")\n",
    "axs[-1].set_xlabel(\"Latitude [deg]\")\n",
    "axs[-1].legend(loc=\"upper center\", ncol=3)\n",
    "fig.suptitle(\"Conventional aircraft $p_{pcf}$\")\n",
    "fig.tight_layout()\n",
    "plt.subplots_adjust(hspace=0, wspace=0.175)\n",
    "# fig.savefig(\"figs/comp_latg_con.png\", dpi=250)"
   ]
  },
  {
   "cell_type": "code",
   "execution_count": null,
   "metadata": {},
   "outputs": [],
   "source": [
    "# show level values\n",
    "levels = [350, 300, 250, 225, 200, 175, 150]\n",
    "colors = ['#2271B2', '#F748A5']\n",
    "labels = [\"Megill_2025\", \"AHEAD\"]\n",
    "\n",
    "ds_lst = [ds_lf.ppcf.sel(AC=\"oac10\"), ds_ah_intrp_h2c]\n",
    "ds_latg_lst = [ds.groupby(\"lat\").mean(dim=\"lon\") for ds in ds_lst]\n",
    "\n",
    "fig, axs = plt.subplots(len(levels), figsize=(7, len(levels)), sharex=\"all\", sharey=\"all\")\n",
    "for j, ax in enumerate(axs[::-1]):\n",
    "    for i, ds_latg in enumerate(ds_latg_lst):\n",
    "        ax.plot(ds_latg.lat.data, ds_latg.sel(plev=levels[j]).data, c=colors[i], label=labels[i])\n",
    "    \n",
    "    # axis settings\n",
    "    ax.set_xlim([-90, 90])\n",
    "    ax.set_xticks([-90, -60, -30, 0, 30, 60, 90])\n",
    "    ax.grid(visible=True, which=\"major\", lw=0.1, c=\"gray\", alpha=0.2)\n",
    "    lvl_ax = ax.twinx()\n",
    "    lvl_ax.set_ylim([0, 1])\n",
    "    lvl_ax.set_yticks([0.5])\n",
    "    lvl_ax.set_yticklabels([f\"{levels[j]:.0f} hPa\"])\n",
    "\n",
    "# axis labels\n",
    "axs[3].set_ylabel(\"Potential persistent contrail formation $p_{PCF}$ [-]\")\n",
    "axs[-1].set_xlabel(\"Latitude [deg]\")\n",
    "axs[-1].legend(loc=\"upper center\", ncol=3)\n",
    "fig.suptitle(\"Hydrogen combustion aircraft $p_{pcf}$\")\n",
    "fig.tight_layout()\n",
    "plt.subplots_adjust(hspace=0, wspace=0.175)\n",
    "# fig.savefig(\"figs/comp_latg_h2c.png\", dpi=250)"
   ]
  },
  {
   "attachments": {},
   "cell_type": "markdown",
   "metadata": {},
   "source": [
    "## Historical aviation scenario (conventional fuel)\n",
    "\n",
    "We now run OpenAirClim with a historical aviation scenario. Here, I'm using an ELK emission inventory in the year 2019 with a normalisation for global air traffic from 1920 until 2019."
   ]
  },
  {
   "cell_type": "code",
   "execution_count": null,
   "metadata": {},
   "outputs": [],
   "source": [
    "import xarray as xr\n",
    "import matplotlib.pyplot as plt\n",
    "import cartopy.crs as ccrs\n",
    "\n",
    "# load results\n",
    "ds_res_mg = xr.open_dataset(\"../results/megill/hist/hist.nc\")\n",
    "ds_res_ac = xr.open_dataset(\"../results/ahead/hist/hist.nc\")\n",
    "ds_res_cc = xr.open_dataset(\"../results/ccmod/hist/hist.nc\")\n",
    "\n",
    "# load contrail export files\n",
    "cont_exp_mg = xr.open_dataset(\"../results/megill/hist/cont_export.nc\")\n",
    "cont_exp_ac = xr.open_dataset(\"../results/ahead/hist/cont_export.nc\")\n",
    "cont_exp_cc = xr.open_dataset(\"../results/ccmod/hist/cont_export.nc\")\n",
    "\n",
    "# configure colours\n",
    "colors = ['#2271B2', '#3DB7E9', '#F748A5', '#359B73', '#D55E00', '#E69F00', '#F0E442']"
   ]
  },
  {
   "attachments": {},
   "cell_type": "markdown",
   "metadata": {},
   "source": [
    "Now, let us have a look at the contrail radiative forcing for each contrail module."
   ]
  },
  {
   "cell_type": "code",
   "execution_count": null,
   "metadata": {},
   "outputs": [],
   "source": [
    "fig, ax = plt.subplots(figsize=(9, 4))\n",
    "\n",
    "# contrail RF\n",
    "ax.plot(ds_res_mg.time, ds_res_mg.RF_cont * 1e3, c=colors[0], label=\"Megill_2025\")\n",
    "ax.plot(ds_res_cc.time, ds_res_cc.RF_cont * 1e3, c=colors[1], label=\"CCMod\")\n",
    "ax.plot(ds_res_ac.time, ds_res_ac.RF_cont * 1e3, c=colors[2], label=\"AHEAD\")\n",
    "ax.legend(loc=\"best\")\n",
    "ax.set_xlabel(\"Year\")\n",
    "ax.set_ylabel(\"Contrail Radiative Forcing [mW/m2]\")\n",
    "\n",
    "fig.tight_layout()\n",
    "\n",
    "ds_res_cc.RF_cont.data[-1] / ds_res_ac.RF_cont.data[-1]\n",
    "# fig.savefig(\"figs/comp_hist_rf_con.png\")"
   ]
  },
  {
   "cell_type": "code",
   "execution_count": null,
   "metadata": {},
   "outputs": [],
   "source": [
    "fig, axs = plt.subplots(figsize=(9, 4), ncols=2)\n",
    "\n",
    "# coverage\n",
    "axs[0].plot(cont_exp_mg.lat, cont_exp_mg.sel(year=2019).cccov_tot, c=colors[0], label=\"Megill_2025\")\n",
    "axs[0].plot(cont_exp_cc.lat, cont_exp_cc.sel(year=2019).cccov_tot, c=colors[1], label=\"CCMod\")\n",
    "axs[0].plot(cont_exp_ac.lat, cont_exp_ac.sel(year=2019).cccov_tot, c=colors[2], label=\"AHEAD\")\n",
    "axs[0].legend(loc=\"best\")\n",
    "axs[0].set_xlabel(\"Latitude [deg]\")\n",
    "axs[0].set_ylabel(\"Total contrail cirrus coverage\")\n",
    "\n",
    "# contrail RF\n",
    "axs[1].plot(ds_res_mg.time, ds_res_mg.RF_cont * 1e3, c=colors[0], label=\"Megill_2025\")\n",
    "axs[1].plot(ds_res_cc.time, ds_res_cc.RF_cont * 1e3, c=colors[1], label=\"CCMod\")\n",
    "axs[1].plot(ds_res_ac.time, ds_res_ac.RF_cont * 1e3, c=colors[2], label=\"AHEAD\")\n",
    "axs[1].set_xlabel(\"Year\")\n",
    "axs[1].set_ylabel(\"Contrail Radiative Forcing [mW/m2]\")\n",
    "\n",
    "fig.tight_layout()"
   ]
  },
  {
   "attachments": {},
   "cell_type": "markdown",
   "metadata": {},
   "source": [
    "We can take a closer look at the CFDD and cccov values"
   ]
  },
  {
   "cell_type": "code",
   "execution_count": null,
   "metadata": {},
   "outputs": [],
   "source": [
    "fig, ax = plt.subplots(figsize=(9, 5), subplot_kw=dict(projection=ccrs.PlateCarree()))\n",
    "ax.coastlines()\n",
    "\n",
    "cfdd_diff_mg = (cont_exp_mg.cfdd - cont_exp_ac.cfdd)\n",
    "im = cfdd_diff_mg.plot(ax=ax, add_colorbar=False)\n",
    "fig.colorbar(im, fraction=0.024, pad=0.09, label=\"\")\n",
    "ax.set_title(\"Difference in CFDD, Megill_2025 vs. AHEAD\")\n",
    "gl = ax.gridlines(crs=ccrs.PlateCarree(), draw_labels=True)\n",
    "# fig.savefig(\"figs/comp_hist_cfdd_con.png\")"
   ]
  },
  {
   "cell_type": "code",
   "execution_count": null,
   "metadata": {},
   "outputs": [],
   "source": [
    "fig, ax = plt.subplots(figsize=(9, 5), subplot_kw=dict(projection=ccrs.PlateCarree()))\n",
    "ax.coastlines()\n",
    "\n",
    "cccov_diff_mg = (cont_exp_mg.cccov - cont_exp_ac.cccov) * 100.0\n",
    "im = cccov_diff_mg.plot(ax=ax, add_colorbar=False)\n",
    "fig.colorbar(im, fraction=0.024, pad=0.09, label=\"Difference in cccov [%]\")\n",
    "ax.set_title(\"Difference in cccov, Megill_2025 vs. AHEAD\")\n",
    "gl = ax.gridlines(crs=ccrs.PlateCarree(), draw_labels=True)\n",
    "# fig.savefig(\"figs/comp_hist_cccov_con.png\")"
   ]
  },
  {
   "cell_type": "code",
   "execution_count": null,
   "metadata": {},
   "outputs": [],
   "source": []
  },
  {
   "attachments": {},
   "cell_type": "markdown",
   "metadata": {},
   "source": [
    "## Historical aviation scenario (hydrogen)\n",
    "\n",
    "We now run the same aviation scenario, but this time assuming only hydrogen combustion aircraft. I did not modify the `PM_rel` parameter, so the actual values are not accurate, but they can still be used to compare the methods."
   ]
  },
  {
   "cell_type": "code",
   "execution_count": null,
   "metadata": {},
   "outputs": [],
   "source": [
    "import xarray as xr\n",
    "import matplotlib.pyplot as plt\n",
    "import cartopy.crs as ccrs\n",
    "\n",
    "# load results\n",
    "ds_res_mg = xr.open_dataset(\"../results/megill/hist_h2c/hist_h2c.nc\")\n",
    "ds_res_ac = xr.open_dataset(\"../results/ahead/hist_h2c/hist_h2c.nc\")\n",
    "\n",
    "# load contrail export files\n",
    "cont_exp_mg = xr.open_dataset(\"../results/megill/hist_h2c/cont_export.nc\")\n",
    "cont_exp_ac = xr.open_dataset(\"../results/ahead/hist_h2c/cont_export.nc\")\n",
    "\n",
    "# configure colours\n",
    "colors = ['#2271B2', '#3DB7E9', '#F748A5', '#359B73', '#D55E00', '#E69F00', '#F0E442']"
   ]
  },
  {
   "cell_type": "code",
   "execution_count": null,
   "metadata": {},
   "outputs": [],
   "source": [
    "fig, ax = plt.subplots(figsize=(9, 5), subplot_kw=dict(projection=ccrs.PlateCarree()))\n",
    "ax.coastlines()\n",
    "\n",
    "cccov_diff_mg = (cont_exp_mg.cccov - cont_exp_ac.cccov) * 100.0\n",
    "im = cccov_diff_mg.plot(ax=ax, add_colorbar=False)\n",
    "fig.colorbar(im, fraction=0.024, pad=0.09, label=\"Difference in cccov [%]\")\n",
    "ax.set_title(\"Difference in cccov, Megill_2025 vs. AHEAD\")\n",
    "gl = ax.gridlines(crs=ccrs.PlateCarree(), draw_labels=True)\n",
    "# fig.savefig(\"figs/comp_hist_cccov_h2c.png\")"
   ]
  },
  {
   "cell_type": "code",
   "execution_count": null,
   "metadata": {},
   "outputs": [],
   "source": [
    "fig, ax = plt.subplots(figsize=(9, 4))\n",
    "ax.plot(ds_res_mg.time, ds_res_mg.RF_cont * 1e3, c=colors[0], label=\"Megill_2025\")\n",
    "ax.plot(ds_res_ac.time, ds_res_ac.RF_cont * 1e3, c=colors[2], label=\"AHEAD\")\n",
    "ax.legend(loc=\"best\")\n",
    "ax.set_xlabel(\"Year\")\n",
    "ax.set_ylabel(\"Contrail Radiative Forcing [mW/m2]\")\n",
    "fig.tight_layout()\n",
    "# fig.savefig(\"figs/comp_hist_rf_h2c.png\")"
   ]
  },
  {
   "cell_type": "code",
   "execution_count": null,
   "metadata": {},
   "outputs": [],
   "source": [
    "fig, ax = plt.subplots()\n",
    "ax.plot(cont_exp_mg.lat, cont_exp_mg.sel(year=2019).cccov_tot, c=colors[0], label=\"Megill_2025\")\n",
    "ax.plot(cont_exp_ac.lat, cont_exp_ac.sel(year=2019).cccov_tot, c=colors[2], label=\"AHEAD\")\n",
    "ax.legend(loc=\"best\")\n",
    "ax.set_xlabel(\"Latitude [deg]\")\n",
    "ax.set_ylabel(\"Total contrail cirrus coverage\")"
   ]
  },
  {
   "attachments": {},
   "cell_type": "markdown",
   "metadata": {},
   "source": [
    "## Historical aviation scenario (Low G)\n",
    "\n",
    "Finally, we consider another fictional scenario, where all aircraft are assumed to be powered by a engines with low $G$ values. As before, we do not modify the `PM_rel` parameter."
   ]
  },
  {
   "cell_type": "code",
   "execution_count": null,
   "metadata": {},
   "outputs": [],
   "source": [
    "import xarray as xr\n",
    "import matplotlib.pyplot as plt\n",
    "import cartopy.crs as ccrs\n",
    "\n",
    "# load results\n",
    "ac_lst = [\"g0p50\", \"g0p75\", \"g1p00\", \"g1p25\", \"g1p50\", \"g1p75\"]\n",
    "ac_g_vals = [\"0.50\", \"0.75\", \"1.00\", \"1.25\", \"1.50\", \"1.75\"]\n",
    "ds_res_lst = [\n",
    "    xr.open_dataset(f\"../results/megill/hist_{ac}/hist_{ac}.nc\") for ac in ac_lst\n",
    "]\n",
    "\n",
    "# configure colours\n",
    "colors = ['#2271B2', '#3DB7E9', '#F748A5', '#359B73', '#D55E00', '#E69F00', '#F0E442']"
   ]
  },
  {
   "cell_type": "code",
   "execution_count": null,
   "metadata": {},
   "outputs": [],
   "source": [
    "fig, ax = plt.subplots(figsize=(9, 4))\n",
    "for i_ac, ac in enumerate(ac_lst):\n",
    "    ax.plot(\n",
    "        ds_res_lst[i_ac].time, ds_res_lst[i_ac].RF_cont * 1e3,\n",
    "        c=colors[i_ac], label=f\"$G$ = {ac_g_vals[i_ac]} Pa/K\"\n",
    "    )\n",
    "ax.legend(loc=\"best\")\n",
    "ax.set_xlabel(\"Year\")\n",
    "ax.set_ylabel(\"Contrail Radiative Forcing [mW/m2]\")\n",
    "fig.tight_layout()\n",
    "# fig.savefig(\"figs/comp_hist_rf_lowg.png\")"
   ]
  },
  {
   "cell_type": "code",
   "execution_count": null,
   "metadata": {},
   "outputs": [],
   "source": []
  }
 ],
 "metadata": {
  "kernelspec": {
   "display_name": "oac",
   "language": "python",
   "name": "python3"
  },
  "language_info": {
   "codemirror_mode": {
    "name": "ipython",
    "version": 3
   },
   "file_extension": ".py",
   "mimetype": "text/x-python",
   "name": "python",
   "nbconvert_exporter": "python",
   "pygments_lexer": "ipython3",
   "version": "3.11.5"
  },
  "orig_nbformat": 4
 },
 "nbformat": 4,
 "nbformat_minor": 2
}
