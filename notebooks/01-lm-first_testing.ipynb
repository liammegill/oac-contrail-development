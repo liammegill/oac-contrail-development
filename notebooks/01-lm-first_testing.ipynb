{
 "cells": [
  {
   "cell_type": "code",
   "execution_count": null,
   "id": "cf6b54d9-8f0f-40ad-bb6f-17f5362b023b",
   "metadata": {},
   "outputs": [],
   "source": [
    "# tests with first data and repository\n",
    "\n"
   ]
  },
  {
   "cell_type": "code",
   "execution_count": null,
   "id": "584f7467-861c-4f65-ac55-b3a7b5cc7190",
   "metadata": {},
   "outputs": [],
   "source": [
    "import xarray as xr\n",
    "import numpy as np\n",
    "import cartopy.crs as ccrs\n",
    "import matplotlib.pyplot as plt\n",
    "\n",
    "project_dir = \"/work/bd1062/b309257/oac-contrail-development/\"\n",
    "wd_ulrike = \"/work/bd1033/b309022/liam/SMR_regional/\"\n",
    "multiplier = \"1\""
   ]
  },
  {
   "cell_type": "code",
   "execution_count": null,
   "id": "56585e0e-84b5-4a1b-9b07-8603f18e39f6",
   "metadata": {},
   "outputs": [],
   "source": [
    "# load repository dataset\n",
    "ds_repo = xr.load_dataset(f\"{project_dir}data/repository/emi_sa_reg.nc\")\n",
    "ds_repo"
   ]
  },
  {
   "cell_type": "code",
   "execution_count": null,
   "id": "90b00184-e995-44d9-8a05-718f92f992ca",
   "metadata": {},
   "outputs": [],
   "source": [
    "ds = xr.load_dataset(f\"{wd_ulrike}year_kero_mult{multiplier}_oa_input_variables_all_mean_2015_2018_yearly_cycle_liam.nc\")\n",
    "\n",
    "ds2 = xr.load_dataset(\"/work/bd1033/b309022/echam5_ccmod/run17702/run17702_201502.01_contr.nc\")\n",
    "ds3 = xr.load_dataset(\"/work/bd1033/b309022/echam5_ccmod/run17702/run17702_201502.01.nc\")"
   ]
  },
  {
   "cell_type": "code",
   "execution_count": null,
   "id": "74312771-175b-4e46-9676-ec5a646794da",
   "metadata": {},
   "outputs": [],
   "source": [
    "ds3.tradt"
   ]
  },
  {
   "cell_type": "code",
   "execution_count": null,
   "id": "7ae0ad2d-d8ff-44e4-992d-cf4977cbd99b",
   "metadata": {},
   "outputs": [],
   "source": []
  },
  {
   "cell_type": "code",
   "execution_count": null,
   "id": "732da1c6-db7b-4178-85e6-c0bf8ce3a885",
   "metadata": {},
   "outputs": [],
   "source": [
    "ds2.isel(time=0).aps.plot()"
   ]
  },
  {
   "cell_type": "code",
   "execution_count": null,
   "id": "5eb8edbc-0935-4ff0-9873-e81f543b8203",
   "metadata": {},
   "outputs": [],
   "source": [
    "ds4 = xr.load_dataset(\"/work/bd1033/b309022/echam5_ccmod/run17701/run17701_201501.01.nc\")\n",
    "\n",
    "ds4"
   ]
  },
  {
   "cell_type": "code",
   "execution_count": null,
   "id": "ed342f9e-d53e-4c02-8047-06c0b8cc7e6d",
   "metadata": {},
   "outputs": [],
   "source": []
  },
  {
   "cell_type": "code",
   "execution_count": null,
   "id": "090028e5-1234-4d60-8337-2b7f244deea5",
   "metadata": {},
   "outputs": [],
   "source": []
  },
  {
   "cell_type": "code",
   "execution_count": null,
   "id": "81905e14-4690-4434-8443-047854b3ab88",
   "metadata": {},
   "outputs": [],
   "source": []
  },
  {
   "cell_type": "code",
   "execution_count": null,
   "id": "81be5493-935d-4b35-a9e0-d16179696737",
   "metadata": {},
   "outputs": [],
   "source": []
  },
  {
   "cell_type": "code",
   "execution_count": null,
   "id": "a138e934-bb46-4536-8ab2-d83ccc103b93",
   "metadata": {},
   "outputs": [],
   "source": [
    "# load CCMod dataset\n",
    "ds = xr.load_dataset(f\"{wd_ulrike}year_kero_mult{multiplier}_oa_input_variables_all_mean_2015_2018_yearly_cycle_liam.nc\")\n",
    "# ds = xr.load_dataset(f\"{wd_ulrike}year_kero_regional_mult{multiplier}_oa_input_variables_all_mean_2021_2025_mean.nc\")\n",
    "\n",
    "# !!!TEMPORARY!!! change hybrid model level to pressure level\n",
    "plev = (ds.hyam + ds.hybm * 101325) * 0.01  # [hPa] \n",
    "ds = ds.assign_coords(plev=(\"mlev\", plev.data))\n",
    "ds = ds.swap_dims({\"mlev\": \"plev\"})\n",
    "ds = ds.drop_vars(\"mlev\")\n",
    "ds = ds.where(ds.plev >= 120., drop=True)  # remove data higher than 120 hPa (for now)\n",
    "\n",
    "# change longitude to between -180 and +180\n",
    "ds[\"lon\"] = (ds.lon + 180) % 360 - 180\n",
    "ds = ds.sortby(\"lon\")\n",
    "\n",
    "ds"
   ]
  },
  {
   "cell_type": "code",
   "execution_count": null,
   "id": "5eda7993-bc4a-44a4-8d58-58e36ce3bf25",
   "metadata": {},
   "outputs": [],
   "source": [
    "# FUNCTIONS\n",
    "\n",
    "# lat-lon conversions for spherical Voronoi\n",
    "def lonlat_to_xyz(lon, lat, radians=True):\n",
    "    if not radians:\n",
    "        lon = np.deg2rad(lon)\n",
    "        lat = np.deg2rad(lat)\n",
    "    x = np.cos(lat) * np.cos(lon)\n",
    "    y = np.cos(lat) * np.sin(lon)\n",
    "    z = np.sin(lat)\n",
    "    return np.stack((x, y, z), axis=-1)\n",
    "\n",
    "\n",
    "def xyz_to_lonlat(pts, radians=True):\n",
    "    x, y, z = pts[:, 0], pts[:, 1], pts[:, 2]\n",
    "    lon = np.arctan2(y, x) % (2 * np.pi)\n",
    "    lat = np.arcsin(z / np.sqrt(x**2 + y**2 + z**2))\n",
    "    if not radians:\n",
    "        lon = np.rad2deg(lon)\n",
    "        lat = np.rad2deg(lat)\n",
    "    return np.vstack((lon, lat)).T"
   ]
  },
  {
   "cell_type": "code",
   "execution_count": null,
   "id": "5924fe16-fab0-4421-94ef-545d7de5b324",
   "metadata": {},
   "outputs": [],
   "source": [
    "# calculate grid area using SphericalVoronoi\n",
    "from scipy.spatial import SphericalVoronoi\n",
    "\n",
    "# define points in lonlat and cartesian\n",
    "lon_grid, lat_grid = np.meshgrid(ds.lon.values, ds.lat.values)\n",
    "lon_flat = lon_grid.flatten()\n",
    "lat_flat = lat_grid.flatten()\n",
    "pts_ll = np.vstack((lon_flat, lat_flat)).T\n",
    "pts_ct = lonlat_to_xyz(pts_ll[:, 0], pts_ll[:, 1], radians=False)\n",
    "\n",
    "# calculate areas\n",
    "sv = SphericalVoronoi(pts_ct)\n",
    "sv.sort_vertices_of_regions()\n",
    "r = 6371.0  # [km] assumed radius of the Earth\n",
    "areas = sv.calculate_areas() * r ** 2  # [km2]\n",
    "\n",
    "# add areas back into ds\n",
    "areas_reshaped = areas.reshape(lon_grid.shape)\n",
    "ds[\"areas\"] = ((\"lat\", \"lon\"), areas_reshaped)\n",
    "\n",
    "ds"
   ]
  },
  {
   "cell_type": "code",
   "execution_count": null,
   "id": "0b4e6b43-290f-4d85-95c8-5a706a964591",
   "metadata": {},
   "outputs": [],
   "source": [
    "# regrid ds_repo (flat) to CCMod grid using a histogram\n",
    "\n",
    "# Extract data from ds_repo\n",
    "distkm = ds_repo['distkm'].values\n",
    "fuel = ds_repo['fuel'].values\n",
    "lat_repo = ds_repo['lat'].values\n",
    "lon_repo = ds_repo['lon'].values\n",
    "plev_repo = ds_repo['plev'].values\n",
    "\n",
    "# Extract coordinates from ds\n",
    "lat_ds = ds['lat'].values\n",
    "lon_ds = ds['lon'].values\n",
    "plev_ds = ds['plev'].values\n",
    "\n",
    "# Ensure coordinates are sorted\n",
    "lat_ds_sorted = np.sort(lat_ds)\n",
    "lon_ds_sorted = np.sort(lon_ds)\n",
    "plev_ds_sorted = np.sort(plev_ds)\n",
    "\n",
    "# Define the edges of the bins for lat, lon, and plev\n",
    "lat_edges = np.concatenate(([lat_ds_sorted[0] - (lat_ds_sorted[1] - lat_ds_sorted[0]) / 2], \n",
    "                            (lat_ds_sorted[:-1] + lat_ds_sorted[1:]) / 2, \n",
    "                            [lat_ds_sorted[-1] + (lat_ds_sorted[-1] - lat_ds_sorted[-2]) / 2]))\n",
    "lon_edges = np.concatenate(([lon_ds_sorted[0] - (lon_ds_sorted[1] - lon_ds_sorted[0]) / 2], \n",
    "                            (lon_ds_sorted[:-1] + lon_ds_sorted[1:]) / 2, \n",
    "                            [lon_ds_sorted[-1] + (lon_ds_sorted[-1] - lon_ds_sorted[-2]) / 2]))\n",
    "plev_edges = np.concatenate(([plev_ds_sorted[0] - (plev_ds_sorted[1] - plev_ds_sorted[0]) / 2], \n",
    "                             (plev_ds_sorted[:-1] + plev_ds_sorted[1:]) / 2, \n",
    "                             [plev_ds_sorted[-1] + (plev_ds_sorted[-1] - plev_ds_sorted[-2]) / 2]))\n",
    "\n",
    "# Use histogramdd to bin the data\n",
    "hist_dist, edges = np.histogramdd((lat_repo, lon_repo, plev_repo), bins=(lat_edges, lon_edges, plev_edges), weights=distkm)\n",
    "hist_fuel, _ = np.histogramdd((lat_repo, lon_repo, plev_repo), bins=(lat_edges, lon_edges, plev_edges), weights=fuel)\n",
    "\n",
    "# create regridded ds\n",
    "ds_rg = xr.Dataset()\n",
    "ds_rg = ds_rg.assign_coords(ds.coords)\n",
    "ds_rg[\"dist\"] = xr.DataArray(hist_dist, coords=[lat_ds_sorted, lon_ds_sorted, plev_ds_sorted], dims=['lat', 'lon', 'plev'])\n",
    "ds_rg[\"fuel\"] = xr.DataArray(hist_fuel, coords=[lat_ds_sorted, lon_ds_sorted, plev_ds_sorted], dims=['lat', 'lon', 'plev'])\n",
    "\n",
    "ds_rg"
   ]
  },
  {
   "cell_type": "code",
   "execution_count": null,
   "id": "c7415719-408e-480b-ad90-9498df8b5666",
   "metadata": {},
   "outputs": [],
   "source": [
    "# compare before and after re-gridding\n",
    "\n",
    "import matplotlib.pyplot as plt\n",
    "\n",
    "# Sum the \"fuel\" variable across all lat and lon for both datasets\n",
    "ds_repo_gridded = xr.load_dataset(f\"{project_dir}data/repository/emi_sa_reg_gridded.nc\")\n",
    "fuel_sum_repo = ds_repo_gridded['fuel'].sum(dim=['lat', 'lon'])\n",
    "fuel_sum_repo_interp = ds_rg.fuel.sum(dim=['lat', 'lon'])\n",
    "\n",
    "# Plot the vertical profiles\n",
    "plt.figure(figsize=(10, 6))\n",
    "\n",
    "plt.plot(fuel_sum_repo, fuel_sum_repo.plev, label='Original ds_repo', marker=\"s\")\n",
    "plt.plot(fuel_sum_repo_interp, fuel_sum_repo_interp.plev, label='Regridded ds_repo (histogram method)', linestyle='--', marker=\"o\")\n",
    "\n",
    "plt.gca().invert_yaxis()  # Invert y-axis to have plev decreasing upwards\n",
    "plt.xlabel('Summed Fuel')\n",
    "plt.ylabel('Pressure Level (hPa)')\n",
    "plt.title('Vertical Profile of Fuel')\n",
    "plt.legend()\n",
    "plt.grid(True)\n",
    "plt.show()"
   ]
  },
  {
   "cell_type": "code",
   "execution_count": null,
   "id": "88396989-fd9e-4a94-839a-8aed7d8306af",
   "metadata": {},
   "outputs": [],
   "source": []
  },
  {
   "cell_type": "code",
   "execution_count": null,
   "id": "6038dd66-ae7a-49b9-a665-e0ec3a9878ff",
   "metadata": {},
   "outputs": [],
   "source": [
    "# add required data to ds_rg\n",
    "\n",
    "ds_rg[\"areas\"] = ds.areas\n",
    "ds_rg[\"pPCF\"] = ds.COVER_C_P_ACC\n",
    "ds_rg[\"cccov\"] = ds.cover_tot.isel(plev=0)  # independent of plev\n",
    "ds_rg[\"RF\"] = ds.rf.isel(plev=0)  # independent of plev"
   ]
  },
  {
   "cell_type": "code",
   "execution_count": null,
   "id": "f8477642-30dc-4690-b335-ee0e094214f0",
   "metadata": {},
   "outputs": [],
   "source": []
  },
  {
   "cell_type": "code",
   "execution_count": null,
   "id": "5e4f7f31-b13c-472b-b4c7-b8d6d9852612",
   "metadata": {},
   "outputs": [],
   "source": [
    "# calculate CFDD\n",
    "\n",
    "# for now. This is eventually aircraft design dependent\n",
    "# check time as well\n",
    "ds_rg[\"CFDD\"] = (ds_rg.dist / len(ds_rg.time) / ds_rg.areas * ds_rg.pPCF).sum(dim=\"plev\")\n",
    "ds_rg"
   ]
  },
  {
   "cell_type": "code",
   "execution_count": null,
   "id": "16b2ff17-a94a-413d-8122-0a72455de0fc",
   "metadata": {},
   "outputs": [],
   "source": [
    "# plot CFDD vs cccov\n",
    "\n",
    "CFDD = ds_rg.CFDD.values.flatten()\n",
    "cccov = ds_rg.cccov.values.flatten()\n",
    "\n",
    "fig, ax = plt.subplots()\n",
    "ax.scatter(CFDD, cccov * 100., marker=\"o\", s=2)\n",
    "# ax.set_ylim([0, 8])\n",
    "ax.set_xlabel(\"CFDD\")\n",
    "ax.set_ylabel(\"cccov [%]\")"
   ]
  },
  {
   "cell_type": "code",
   "execution_count": null,
   "id": "012191c5-f5f3-458b-9c96-678677cd09eb",
   "metadata": {},
   "outputs": [],
   "source": [
    "plt.hist(ds.COVER_CC_P_ACC.values.flatten())"
   ]
  },
  {
   "cell_type": "code",
   "execution_count": null,
   "id": "40e26e50-e627-47bd-b2b2-36204e297499",
   "metadata": {},
   "outputs": [],
   "source": [
    "fig, ax = plt.subplots()\n",
    "ax.scatter(ds_rg.cccov * 100., -ds_rg.RF, marker=\"o\", s=2)\n",
    "ax.set_xlabel(\"cccov [%]\")\n",
    "ax.set_ylabel(\"RF [W/m2]\")"
   ]
  },
  {
   "cell_type": "code",
   "execution_count": null,
   "id": "eec4ea79-426c-43ab-9398-e224fd158d1d",
   "metadata": {},
   "outputs": [],
   "source": [
    "plt.hist(ds_rg.RF.values.flatten())"
   ]
  },
  {
   "cell_type": "code",
   "execution_count": null,
   "id": "473ef51e-76a3-4153-be56-45ad0525e567",
   "metadata": {},
   "outputs": [],
   "source": []
  },
  {
   "cell_type": "code",
   "execution_count": null,
   "id": "ab667b5e-fd34-4099-8ef8-c44600a9caa6",
   "metadata": {},
   "outputs": [],
   "source": []
  },
  {
   "cell_type": "code",
   "execution_count": null,
   "id": "f05b4dcb-356e-453c-a4e4-2b7765e3292c",
   "metadata": {},
   "outputs": [],
   "source": []
  },
  {
   "cell_type": "code",
   "execution_count": null,
   "id": "71058b69-edee-4096-b704-a4cbc89f14c8",
   "metadata": {},
   "outputs": [],
   "source": []
  }
 ],
 "metadata": {
  "kernelspec": {
   "display_name": "1 Python 3 (based on the module python3/2023.01)",
   "language": "python",
   "name": "python3_2023_01"
  },
  "language_info": {
   "codemirror_mode": {
    "name": "ipython",
    "version": 3
   },
   "file_extension": ".py",
   "mimetype": "text/x-python",
   "name": "python",
   "nbconvert_exporter": "python",
   "pygments_lexer": "ipython3",
   "version": "3.10.10"
  }
 },
 "nbformat": 4,
 "nbformat_minor": 5
}
